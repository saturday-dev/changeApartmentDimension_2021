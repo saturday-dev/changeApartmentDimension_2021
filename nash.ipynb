{
 "cells": [
  {
   "cell_type": "code",
   "execution_count": 1,
   "metadata": {},
   "outputs": [],
   "source": [
    "import tensorflow as tf\n",
    "import numpy as np"
   ]
  },
  {
   "cell_type": "code",
   "execution_count": null,
   "metadata": {},
   "outputs": [],
   "source": [
    "tf.set_random_seed(777)\n",
    "learning_rate = 0.01\n",
    "\n",
    "x_data = [[0, 0], [0, 1], [1, 0], [1,1]]\n",
    "y_data = [[0.33], [0.0],[1.0], [0.67]]\n",
    "\n",
    "x_data = np.array(x_data, dtype = np.float32)\n",
    "y_data = np.array(y_data, dtype= np.float32)\n",
    "\n",
    "X = tf.placeholder(tf.float32, [None, 2])\n",
    "Y = tf.placeholder(tf.float32, [None, 1])\n",
    "\n",
    "W1 = tf.Variable(tf.random_normal([2,2]), name = 'weight1')\n",
    "b1 = tf.Variable(tf.random_normal([2]), name = 'bias1')\n",
    "layer1 = tf.sigmoid(tf.matmul(X, W1)+ b1)\n",
    "\n",
    "W2 = tf.Variable(tf.random_normal([2,1]), name = 'weight2')\n",
    "b2 = tf.Variable(tf.random_normal([1]), name = 'bias2')\n",
    "hypothesis = tf.sigmoid(tf.matmul(layer1, W2)+ b2)\n",
    "\n",
    "\n",
    "# cost / loss function\n",
    "\n",
    "cost = -tf.reduce_mean(Y*tf.log(hypothesis) + (1 - Y) * tf.log(1- hypothesis))\n",
    "\n",
    "\n",
    "train = tf.train.GradientDescentOptimizer( learning_rate = learning_rate).minimize(cost)\n",
    "\n",
    "\n",
    "# Launch graph\n",
    "with tf.Session() as sess:\n",
    "    # initialize TensorFlow variables\n",
    "    sess.run(tf.global_variables_initializer())\n",
    "\n",
    "    for step in range(10001):\n",
    "        sess.run(train, feed_dict={X : x_data, Y : y_data})\n",
    "        if step % 2000 == 0:\n",
    "            print(step, sess.run(cost, feed_dict={X : x_data, Y : y_data}), sess.run([W1, W2]), sess.run([b1, b2]))\n",
    "\n",
    "\n",
    "\n",
    "    # hypothesis report\n",
    "\n",
    "    h = sess.run(hypothesis, feed_dict = { X : x_data, Y : y_data})\n",
    "    print('\\nhypothesis : ', h)"
   ]
  }
 ],
 "metadata": {
  "interpreter": {
   "hash": "36b389e5cd59d9719562e08f3cbf07dde553332b0fa5372c26f48a01b770d33d"
  },
  "kernelspec": {
   "display_name": "Python 3.8.10 64-bit ('cuda': conda)",
   "name": "python3"
  },
  "language_info": {
   "name": "python",
   "version": ""
  },
  "orig_nbformat": 4
 },
 "nbformat": 4,
 "nbformat_minor": 2
}