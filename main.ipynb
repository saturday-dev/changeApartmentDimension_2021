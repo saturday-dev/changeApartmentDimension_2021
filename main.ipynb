{
 "cells": [
  {
   "cell_type": "code",
   "execution_count": 98,
   "metadata": {},
   "outputs": [],
   "source": [
    "#load  library\n",
    "import pandas as pd\n",
    "import numpy as np\n",
    "# 그래프를 노트북 안에 그리기 위해 설정\n",
    "%matplotlib inline\n",
    "# 필요한 패키지와 라이브러리를 가져옴\n",
    "import matplotlib as mpl\n",
    "import matplotlib.pyplot as plt\n",
    "import matplotlib.font_manager as fm\n",
    "# 그래프에서 마이너스 폰트 깨지는 문제에 대한 대처\n",
    "mpl.rcParams['axes.unicode_minus'] = False\n",
    "import warnings\n",
    "warnings.filterwarnings(\"ignore\")\n"
   ]
  },
  {
   "cell_type": "code",
   "execution_count": 99,
   "metadata": {},
   "outputs": [
    {
     "name": "stdout",
     "output_type": "stream",
     "text": [
      "6\n"
     ]
    }
   ],
   "source": [
    "font_list = fm.findSystemFonts(fontpaths=None, fontext='ttf')\n",
    "\n",
    "# ttf 폰트 전체갯수\n",
    "print(len(font_list)) "
   ]
  },
  {
   "cell_type": "code",
   "execution_count": 52,
   "metadata": {},
   "outputs": [
    {
     "data": {
      "text/plain": [
       "['/usr/share/fonts/truetype/dejavu/DejaVuSansMono-Bold.ttf',\n",
       " '/usr/share/fonts/truetype/dejavu/DejaVuSerif-Bold.ttf',\n",
       " '/usr/share/fonts/truetype/dejavu/DejaVuSerif.ttf',\n",
       " '/usr/share/fonts/truetype/dejavu/DejaVuSansMono.ttf',\n",
       " '/usr/share/fonts/truetype/dejavu/DejaVuSans-Bold.ttf',\n",
       " '/usr/share/fonts/truetype/dejavu/DejaVuSans.ttf']"
      ]
     },
     "execution_count": 52,
     "metadata": {},
     "output_type": "execute_result"
    }
   ],
   "source": [
    "font_list[:10] "
   ]
  },
  {
   "cell_type": "code",
   "execution_count": 132,
   "metadata": {},
   "outputs": [
    {
     "name": "stdout",
     "output_type": "stream",
     "text": [
      "xdata : \n",
      "      조합원        권리가액    용도   분양 면적    조합원 분양가 확정평형     확정평형2     권리가액_억\n",
      "변경순위                                                                    \n",
      "1     정00  1460102565  공동주택  113.29  477631364  84A  51 (1+1)  14.601026\n",
      "2     김00  1161533290  공동주택  113.29  477631364  84A  51 (1+1)  11.615333\n",
      "3     나00  1037500130  공동주택  113.29  477631364  84A         x  10.375001\n",
      "4     경00  1034950000  공동주택  113.29  477631364  84A  51 (1+1)  10.349500\n",
      "5     한00  1020206040  공동주택  113.29  477631364  84A  51 (1+1)  10.202060\n",
      "cond : \n",
      "<bound method NDFrame.head of     평형     기존커트라인      현재평균가격  누적세대수  기존세대수  평형변경배정세대수  변경누적세대수   증감\n",
      "0  51a          0   700000000   2458    809        195     2090 -614\n",
      "1  59B  112700000   827000000   2112    382        386     1895    4\n",
      "2  59A  130950000   857000000   1681    321        772     1509  451\n",
      "3  71B  149250000   958000000    822    100        119      737   19\n",
      "4  71A  156000000   988000000    718    218        218      618    0\n",
      "5  84B  171000000  1106000000    460    110        114      400    4\n",
      "6  84A  185100000  1136000000    331    110        246      286  136\n",
      "7  99a  616611255  1500000000     46     40         40       40    0>\n"
     ]
    }
   ],
   "source": [
    "data_url = 'data/210625_평변data_r1.xlsx'\n",
    "\n",
    "x_data = pd.read_excel(data_url, sheet_name='정리', index_col='변경순위')\n",
    "x_data = x_data.drop(['순위'], axis=1)\n",
    "x_data['권리가액_억'] = x_data['권리가액'] / 100000000\n",
    "condition = pd.read_excel(data_url, sheet_name='평변정보')\n",
    "\n",
    "print('xdata : ', x_data.head(5), 'cond : ',condition.head, sep='\\n')\n"
   ]
  },
  {
   "cell_type": "code",
   "execution_count": 101,
   "metadata": {},
   "outputs": [
    {
     "data": {
      "text/plain": [
       "변경순위\n",
       "1       51 (1+1)\n",
       "3              x\n",
       "12     39B (1+1)\n",
       "14     59A (1+1)\n",
       "65     34B (1+1)\n",
       "102    39A (1+1)\n",
       "113    34A (1+1)\n",
       "Name: 확정평형2, dtype: object"
      ]
     },
     "execution_count": 101,
     "metadata": {},
     "output_type": "execute_result"
    }
   ],
   "source": [
    "\n",
    "p_list2 = x_data.drop_duplicates(['확정평형2'])['확정평형2']\n",
    "p_list2\n"
   ]
  },
  {
   "cell_type": "code",
   "execution_count": 23,
   "metadata": {},
   "outputs": [
    {
     "data": {
      "text/plain": [
       "0       84A\n",
       "6       59A\n",
       "7        XX\n",
       "10      84B\n",
       "19      71A\n",
       "24       99\n",
       "97      71B\n",
       "98      59B\n",
       "101      51\n",
       "172     34B\n",
       "999     39A\n",
       "1379    39B\n",
       "Name: 확정평형, dtype: object"
      ]
     },
     "execution_count": 23,
     "metadata": {},
     "output_type": "execute_result"
    }
   ],
   "source": [
    "p_list = x_data.drop_duplicates(['확정평형'])['확정평형']\n",
    "p_list"
   ]
  },
  {
   "cell_type": "code",
   "execution_count": null,
   "metadata": {},
   "outputs": [],
   "source": []
  },
  {
   "cell_type": "code",
   "execution_count": 102,
   "metadata": {},
   "outputs": [
    {
     "data": {
      "text/html": [
       "<div>\n",
       "<style scoped>\n",
       "    .dataframe tbody tr th:only-of-type {\n",
       "        vertical-align: middle;\n",
       "    }\n",
       "\n",
       "    .dataframe tbody tr th {\n",
       "        vertical-align: top;\n",
       "    }\n",
       "\n",
       "    .dataframe thead th {\n",
       "        text-align: right;\n",
       "    }\n",
       "</style>\n",
       "<table border=\"1\" class=\"dataframe\">\n",
       "  <thead>\n",
       "    <tr style=\"text-align: right;\">\n",
       "      <th></th>\n",
       "      <th>조합원</th>\n",
       "      <th>권리가액</th>\n",
       "      <th>용도</th>\n",
       "      <th>분양 면적</th>\n",
       "      <th>조합원 분양가</th>\n",
       "      <th>확정평형</th>\n",
       "      <th>확정평형2</th>\n",
       "      <th>권리가액_억</th>\n",
       "    </tr>\n",
       "    <tr>\n",
       "      <th>변경순위</th>\n",
       "      <th></th>\n",
       "      <th></th>\n",
       "      <th></th>\n",
       "      <th></th>\n",
       "      <th></th>\n",
       "      <th></th>\n",
       "      <th></th>\n",
       "      <th></th>\n",
       "    </tr>\n",
       "  </thead>\n",
       "  <tbody>\n",
       "    <tr>\n",
       "      <th>1</th>\n",
       "      <td>정00</td>\n",
       "      <td>1460102565</td>\n",
       "      <td>공동주택</td>\n",
       "      <td>113.29</td>\n",
       "      <td>477631364</td>\n",
       "      <td>84A</td>\n",
       "      <td>51 (1+1)</td>\n",
       "      <td>14.601026</td>\n",
       "    </tr>\n",
       "    <tr>\n",
       "      <th>2</th>\n",
       "      <td>김00</td>\n",
       "      <td>1161533290</td>\n",
       "      <td>공동주택</td>\n",
       "      <td>113.29</td>\n",
       "      <td>477631364</td>\n",
       "      <td>84A</td>\n",
       "      <td>51 (1+1)</td>\n",
       "      <td>11.615333</td>\n",
       "    </tr>\n",
       "    <tr>\n",
       "      <th>3</th>\n",
       "      <td>나00</td>\n",
       "      <td>1037500130</td>\n",
       "      <td>공동주택</td>\n",
       "      <td>113.29</td>\n",
       "      <td>477631364</td>\n",
       "      <td>84A</td>\n",
       "      <td>x</td>\n",
       "      <td>10.375001</td>\n",
       "    </tr>\n",
       "    <tr>\n",
       "      <th>4</th>\n",
       "      <td>경00</td>\n",
       "      <td>1034950000</td>\n",
       "      <td>공동주택</td>\n",
       "      <td>113.29</td>\n",
       "      <td>477631364</td>\n",
       "      <td>84A</td>\n",
       "      <td>51 (1+1)</td>\n",
       "      <td>10.349500</td>\n",
       "    </tr>\n",
       "    <tr>\n",
       "      <th>5</th>\n",
       "      <td>한00</td>\n",
       "      <td>1020206040</td>\n",
       "      <td>공동주택</td>\n",
       "      <td>113.29</td>\n",
       "      <td>477631364</td>\n",
       "      <td>84A</td>\n",
       "      <td>51 (1+1)</td>\n",
       "      <td>10.202060</td>\n",
       "    </tr>\n",
       "  </tbody>\n",
       "</table>\n",
       "</div>"
      ],
      "text/plain": [
       "      조합원        권리가액    용도   분양 면적    조합원 분양가 확정평형     확정평형2     권리가액_억\n",
       "변경순위                                                                    \n",
       "1     정00  1460102565  공동주택  113.29  477631364  84A  51 (1+1)  14.601026\n",
       "2     김00  1161533290  공동주택  113.29  477631364  84A  51 (1+1)  11.615333\n",
       "3     나00  1037500130  공동주택  113.29  477631364  84A         x  10.375001\n",
       "4     경00  1034950000  공동주택  113.29  477631364  84A  51 (1+1)  10.349500\n",
       "5     한00  1020206040  공동주택  113.29  477631364  84A  51 (1+1)  10.202060"
      ]
     },
     "execution_count": 102,
     "metadata": {},
     "output_type": "execute_result"
    }
   ],
   "source": [
    "x_data.head(5)"
   ]
  },
  {
   "cell_type": "code",
   "execution_count": null,
   "metadata": {},
   "outputs": [],
   "source": []
  },
  {
   "cell_type": "code",
   "execution_count": 43,
   "metadata": {},
   "outputs": [
    {
     "name": "stderr",
     "output_type": "stream",
     "text": [
      "findfont: Font family ['New Gulim'] not found. Falling back to DejaVu Sans.\n"
     ]
    },
    {
     "data": {
      "image/png": "[encoded data removed]",
      "text/plain": [
       "<Figure size 432x288 with 1 Axes>"
      ]
     },
     "metadata": {
      "needs_background": "light"
     },
     "output_type": "display_data"
    }
   ],
   "source": [
    "#plt.figure(figsize =(7,6))\n",
    "boxplot = x_data.boxplot(column=['권리가액_억'])\n",
    "#plt.yticks(np.arange(0, 2, step = 0.1))\n",
    "plt.show()"
   ]
  },
  {
   "cell_type": "code",
   "execution_count": 44,
   "metadata": {},
   "outputs": [
    {
     "data": {
      "text/plain": [
       "<Figure size 504x432 with 0 Axes>"
      ]
     },
     "metadata": {},
     "output_type": "display_data"
    },
    {
     "name": "stderr",
     "output_type": "stream",
     "text": [
      "findfont: Font family ['New Gulim'] not found. Falling back to DejaVu Sans.\n"
     ]
    },
    {
     "data": {
      "image/png": "[encoded data removed]",
      "text/plain": [
       "<Figure size 432x288 with 1 Axes>"
      ]
     },
     "metadata": {
      "needs_background": "light"
     },
     "output_type": "display_data"
    }
   ],
   "source": [
    "#\n",
    "plt.figure(figsize =(7,6))\n",
    "boxplot = x_data.boxplot(column=['권리가액_억'], by='확정평형' )\n",
    "#plt.yticks(np.arange(0, 2, step = 0.1))\n",
    "plt.show()"
   ]
  },
  {
   "cell_type": "code",
   "execution_count": 56,
   "metadata": {},
   "outputs": [
    {
     "data": {
      "text/html": [
       "<div>\n",
       "<style scoped>\n",
       "    .dataframe tbody tr th:only-of-type {\n",
       "        vertical-align: middle;\n",
       "    }\n",
       "\n",
       "    .dataframe tbody tr th {\n",
       "        vertical-align: top;\n",
       "    }\n",
       "\n",
       "    .dataframe thead th {\n",
       "        text-align: right;\n",
       "    }\n",
       "</style>\n",
       "<table border=\"1\" class=\"dataframe\">\n",
       "  <thead>\n",
       "    <tr style=\"text-align: right;\">\n",
       "      <th></th>\n",
       "      <th>권리가액</th>\n",
       "      <th>조합원 분양가</th>\n",
       "      <th>권리가액_억</th>\n",
       "    </tr>\n",
       "  </thead>\n",
       "  <tbody>\n",
       "    <tr>\n",
       "      <th>count</th>\n",
       "      <td>2.011000e+03</td>\n",
       "      <td>2.011000e+03</td>\n",
       "      <td>2011.000000</td>\n",
       "    </tr>\n",
       "    <tr>\n",
       "      <th>mean</th>\n",
       "      <td>1.749503e+08</td>\n",
       "      <td>3.787279e+08</td>\n",
       "      <td>1.749503</td>\n",
       "    </tr>\n",
       "    <tr>\n",
       "      <th>std</th>\n",
       "      <td>1.207583e+08</td>\n",
       "      <td>5.855087e+07</td>\n",
       "      <td>1.207583</td>\n",
       "    </tr>\n",
       "    <tr>\n",
       "      <th>min</th>\n",
       "      <td>1.562000e+06</td>\n",
       "      <td>2.188417e+08</td>\n",
       "      <td>0.015620</td>\n",
       "    </tr>\n",
       "    <tr>\n",
       "      <th>25%</th>\n",
       "      <td>1.309500e+08</td>\n",
       "      <td>3.275164e+08</td>\n",
       "      <td>1.309500</td>\n",
       "    </tr>\n",
       "    <tr>\n",
       "      <th>50%</th>\n",
       "      <td>1.412500e+08</td>\n",
       "      <td>3.701371e+08</td>\n",
       "      <td>1.412500</td>\n",
       "    </tr>\n",
       "    <tr>\n",
       "      <th>75%</th>\n",
       "      <td>1.626250e+08</td>\n",
       "      <td>4.233930e+08</td>\n",
       "      <td>1.626250</td>\n",
       "    </tr>\n",
       "    <tr>\n",
       "      <th>max</th>\n",
       "      <td>1.460103e+09</td>\n",
       "      <td>1.397451e+09</td>\n",
       "      <td>14.601026</td>\n",
       "    </tr>\n",
       "  </tbody>\n",
       "</table>\n",
       "</div>"
      ],
      "text/plain": [
       "               권리가액       조합원 분양가       권리가액_억\n",
       "count  2.011000e+03  2.011000e+03  2011.000000\n",
       "mean   1.749503e+08  3.787279e+08     1.749503\n",
       "std    1.207583e+08  5.855087e+07     1.207583\n",
       "min    1.562000e+06  2.188417e+08     0.015620\n",
       "25%    1.309500e+08  3.275164e+08     1.309500\n",
       "50%    1.412500e+08  3.701371e+08     1.412500\n",
       "75%    1.626250e+08  4.233930e+08     1.626250\n",
       "max    1.460103e+09  1.397451e+09    14.601026"
      ]
     },
     "execution_count": 56,
     "metadata": {},
     "output_type": "execute_result"
    }
   ],
   "source": [
    "x_data.describe()"
   ]
  },
  {
   "cell_type": "code",
   "execution_count": 66,
   "metadata": {},
   "outputs": [
    {
     "data": {
      "text/plain": [
       "<Figure size 504x432 with 0 Axes>"
      ]
     },
     "metadata": {},
     "output_type": "display_data"
    },
    {
     "data": {
      "image/png": "[encoded data removed]",
      "text/plain": [
       "<Figure size 432x288 with 1 Axes>"
      ]
     },
     "metadata": {
      "needs_background": "light"
     },
     "output_type": "display_data"
    }
   ],
   "source": [
    "plt.figure(figsize =(7,6))\n",
    "boxplot = x_data[ x_data['권리가액_억']  < 10.0 ].boxplot(column=['권리가액_억'], by='확정평형' )\n",
    "#plt.yticks(np.arange(0, 2, step = 0.1))\n",
    "plt.show()"
   ]
  },
  {
   "cell_type": "code",
   "execution_count": 122,
   "metadata": {},
   "outputs": [
    {
     "data": {
      "text/plain": [
       "<Figure size 504x432 with 0 Axes>"
      ]
     },
     "metadata": {},
     "output_type": "display_data"
    },
    {
     "data": {
      "image/png": "[encoded data removed]",
      "text/plain": [
       "<Figure size 432x288 with 1 Axes>"
      ]
     },
     "metadata": {
      "needs_background": "light"
     },
     "output_type": "display_data"
    }
   ],
   "source": [
    "# < 6억 \n",
    "plt.figure(figsize =(7,6))\n",
    "boxplot = x_data[ x_data['권리가액_억']  < 6.0 ].boxplot(column=['권리가액_억'], by='확정평형' )\n",
    "plt.yticks(np.arange(0, 6, step = 0.3))\n",
    "plt.show()"
   ]
  },
  {
   "cell_type": "code",
   "execution_count": 65,
   "metadata": {},
   "outputs": [
    {
     "data": {
      "text/plain": [
       "<Figure size 36000x72000 with 0 Axes>"
      ]
     },
     "metadata": {},
     "output_type": "display_data"
    },
    {
     "data": {
      "image/png": "[encoded data removed]",
      "text/plain": [
       "<Figure size 432x288 with 1 Axes>"
      ]
     },
     "metadata": {
      "needs_background": "light"
     },
     "output_type": "display_data"
    }
   ],
   "source": [
    "# < 2억 \n",
    "plt.figure(figsize =(500,1000))\n",
    "boxplot = x_data[ x_data['권리가액_억']  < 2.0 ].boxplot(column=['권리가액_억'], by='확정평형' )\n",
    "#plt.yticks(np.arange(0, 2, step = 0.1))\n",
    "plt.show()"
   ]
  },
  {
   "cell_type": "code",
   "execution_count": 69,
   "metadata": {},
   "outputs": [
    {
     "data": {
      "text/plain": [
       "<Figure size 504x432 with 0 Axes>"
      ]
     },
     "metadata": {},
     "output_type": "display_data"
    },
    {
     "data": {
      "image/png": "[encoded data removed]",
      "text/plain": [
       "<Figure size 432x288 with 1 Axes>"
      ]
     },
     "metadata": {
      "needs_background": "light"
     },
     "output_type": "display_data"
    }
   ],
   "source": [
    "# 확정평형이 71A \n",
    "\n",
    "plt.figure(figsize =(7,6))\n",
    "boxplot = x_data[ x_data['확정평형']  == '71A' ].boxplot(column=['권리가액_억'], by='확정평형' )\n",
    "#plt.yticks(np.arange(0, 2, step = 0.1))\n",
    "plt.show()"
   ]
  },
  {
   "cell_type": "code",
   "execution_count": 119,
   "metadata": {},
   "outputs": [
    {
     "data": {
      "text/plain": [
       "<Figure size 504x432 with 0 Axes>"
      ]
     },
     "metadata": {},
     "output_type": "display_data"
    },
    {
     "data": {
      "image/png": "[encoded data removed]",
      "text/plain": [
       "<Figure size 432x288 with 1 Axes>"
      ]
     },
     "metadata": {
      "needs_background": "light"
     },
     "output_type": "display_data"
    }
   ],
   "source": [
    "# 확정평형이 71A & 1채인사람\n",
    "\n",
    "plt.figure(figsize =(7,6))\n",
    "boxplot = x_data[ (x_data['확정평형']  == '71A') & (x_data['확정평형2']  == 'x')  ].boxplot(column=['권리가액_억'], by='확정평형' )\n",
    "plt.yticks(np.arange(0, 6, step = 0.3))\n",
    "plt.show()"
   ]
  },
  {
   "cell_type": "code",
   "execution_count": 120,
   "metadata": {},
   "outputs": [
    {
     "ename": "ValueError",
     "evalue": "The truth value of a Series is ambiguous. Use a.empty, a.bool(), a.item(), a.any() or a.all().",
     "output_type": "error",
     "traceback": [
      "\u001b[0;31m---------------------------------------------------------------------------\u001b[0m",
      "\u001b[0;31mValueError\u001b[0m                                Traceback (most recent call last)",
      "\u001b[0;32m<ipython-input-120-6db5462581d5>\u001b[0m in \u001b[0;36m<module>\u001b[0;34m\u001b[0m\n\u001b[1;32m      2\u001b[0m \u001b[0;34m\u001b[0m\u001b[0m\n\u001b[1;32m      3\u001b[0m \u001b[0mplt\u001b[0m\u001b[0;34m.\u001b[0m\u001b[0mfigure\u001b[0m\u001b[0;34m(\u001b[0m\u001b[0mfigsize\u001b[0m \u001b[0;34m=\u001b[0m\u001b[0;34m(\u001b[0m\u001b[0;36m7\u001b[0m\u001b[0;34m,\u001b[0m\u001b[0;36m6\u001b[0m\u001b[0;34m)\u001b[0m\u001b[0;34m)\u001b[0m\u001b[0;34m\u001b[0m\u001b[0;34m\u001b[0m\u001b[0m\n\u001b[0;32m----> 4\u001b[0;31m \u001b[0mboxplot\u001b[0m \u001b[0;34m=\u001b[0m \u001b[0mx_data\u001b[0m\u001b[0;34m[\u001b[0m\u001b[0;34m(\u001b[0m\u001b[0mx_data\u001b[0m\u001b[0;34m[\u001b[0m\u001b[0;34m'확정평형'\u001b[0m\u001b[0;34m]\u001b[0m  \u001b[0;34m==\u001b[0m \u001b[0;34m'71B'\u001b[0m\u001b[0;34m)\u001b[0m \u001b[0;32mand\u001b[0m \u001b[0;34m(\u001b[0m\u001b[0mx_data\u001b[0m\u001b[0;34m[\u001b[0m\u001b[0;34m'권리가액_억'\u001b[0m\u001b[0;34m]\u001b[0m \u001b[0;34m<\u001b[0m \u001b[0;36m2.0\u001b[0m\u001b[0;34m)\u001b[0m\u001b[0;34m]\u001b[0m\u001b[0;34m.\u001b[0m\u001b[0mboxplot\u001b[0m\u001b[0;34m(\u001b[0m\u001b[0mcolumn\u001b[0m\u001b[0;34m=\u001b[0m\u001b[0;34m[\u001b[0m\u001b[0;34m'권리가액_억'\u001b[0m\u001b[0;34m]\u001b[0m\u001b[0;34m,\u001b[0m \u001b[0mby\u001b[0m\u001b[0;34m=\u001b[0m\u001b[0;34m'확정평형'\u001b[0m \u001b[0;34m)\u001b[0m\u001b[0;34m\u001b[0m\u001b[0;34m\u001b[0m\u001b[0m\n\u001b[0m\u001b[1;32m      5\u001b[0m \u001b[0;31m#plt.yticks(np.arange(0, 2, step = 0.1))\u001b[0m\u001b[0;34m\u001b[0m\u001b[0;34m\u001b[0m\u001b[0;34m\u001b[0m\u001b[0m\n\u001b[1;32m      6\u001b[0m \u001b[0mplt\u001b[0m\u001b[0;34m.\u001b[0m\u001b[0mshow\u001b[0m\u001b[0;34m(\u001b[0m\u001b[0;34m)\u001b[0m\u001b[0;34m\u001b[0m\u001b[0;34m\u001b[0m\u001b[0m\n",
      "\u001b[0;32m~/miniconda3/envs/cuda/lib/python3.8/site-packages/pandas/core/generic.py\u001b[0m in \u001b[0;36m__nonzero__\u001b[0;34m(self)\u001b[0m\n\u001b[1;32m   1440\u001b[0m     \u001b[0;34m@\u001b[0m\u001b[0mfinal\u001b[0m\u001b[0;34m\u001b[0m\u001b[0;34m\u001b[0m\u001b[0m\n\u001b[1;32m   1441\u001b[0m     \u001b[0;32mdef\u001b[0m \u001b[0m__nonzero__\u001b[0m\u001b[0;34m(\u001b[0m\u001b[0mself\u001b[0m\u001b[0;34m)\u001b[0m\u001b[0;34m:\u001b[0m\u001b[0;34m\u001b[0m\u001b[0;34m\u001b[0m\u001b[0m\n\u001b[0;32m-> 1442\u001b[0;31m         raise ValueError(\n\u001b[0m\u001b[1;32m   1443\u001b[0m             \u001b[0;34mf\"The truth value of a {type(self).__name__} is ambiguous. \"\u001b[0m\u001b[0;34m\u001b[0m\u001b[0;34m\u001b[0m\u001b[0m\n\u001b[1;32m   1444\u001b[0m             \u001b[0;34m\"Use a.empty, a.bool(), a.item(), a.any() or a.all().\"\u001b[0m\u001b[0;34m\u001b[0m\u001b[0;34m\u001b[0m\u001b[0m\n",
      "\u001b[0;31mValueError\u001b[0m: The truth value of a Series is ambiguous. Use a.empty, a.bool(), a.item(), a.any() or a.all()."
     ]
    },
    {
     "data": {
      "text/plain": [
       "<Figure size 504x432 with 0 Axes>"
      ]
     },
     "metadata": {},
     "output_type": "display_data"
    }
   ],
   "source": [
    "# 확정평형이 71B\n",
    "\n",
    "plt.figure(figsize =(7,6))\n",
    "boxplot = x_data[(x_data['확정평형']  == '71B') and (x_data['권리가액_억'] < 2.0)].boxplot(column=['권리가액_억'], by='확정평형' )\n",
    "#plt.yticks(np.arange(0, 2, step = 0.1))\n",
    "plt.show()"
   ]
  },
  {
   "cell_type": "code",
   "execution_count": 95,
   "metadata": {},
   "outputs": [
    {
     "data": {
      "text/html": [
       "<div>\n",
       "<style scoped>\n",
       "    .dataframe tbody tr th:only-of-type {\n",
       "        vertical-align: middle;\n",
       "    }\n",
       "\n",
       "    .dataframe tbody tr th {\n",
       "        vertical-align: top;\n",
       "    }\n",
       "\n",
       "    .dataframe thead th {\n",
       "        text-align: right;\n",
       "    }\n",
       "</style>\n",
       "<table border=\"1\" class=\"dataframe\">\n",
       "  <thead>\n",
       "    <tr style=\"text-align: right;\">\n",
       "      <th></th>\n",
       "      <th>조합원</th>\n",
       "      <th>권리가액</th>\n",
       "      <th>용도</th>\n",
       "      <th>분양 면적</th>\n",
       "      <th>조합원 분양가</th>\n",
       "      <th>확정평형</th>\n",
       "      <th>확정평형2</th>\n",
       "      <th>권리가액_억</th>\n",
       "    </tr>\n",
       "    <tr>\n",
       "      <th>변경순위</th>\n",
       "      <th></th>\n",
       "      <th></th>\n",
       "      <th></th>\n",
       "      <th></th>\n",
       "      <th></th>\n",
       "      <th></th>\n",
       "      <th></th>\n",
       "      <th></th>\n",
       "    </tr>\n",
       "  </thead>\n",
       "  <tbody>\n",
       "    <tr>\n",
       "      <th>1</th>\n",
       "      <td>정00</td>\n",
       "      <td>1460102565</td>\n",
       "      <td>공동주택</td>\n",
       "      <td>113.29</td>\n",
       "      <td>477631364</td>\n",
       "      <td>84A</td>\n",
       "      <td>51 (1+1)</td>\n",
       "      <td>14.601026</td>\n",
       "    </tr>\n",
       "    <tr>\n",
       "      <th>2</th>\n",
       "      <td>김00</td>\n",
       "      <td>1161533290</td>\n",
       "      <td>공동주택</td>\n",
       "      <td>113.29</td>\n",
       "      <td>477631364</td>\n",
       "      <td>84A</td>\n",
       "      <td>51 (1+1)</td>\n",
       "      <td>11.615333</td>\n",
       "    </tr>\n",
       "    <tr>\n",
       "      <th>3</th>\n",
       "      <td>나00</td>\n",
       "      <td>1037500130</td>\n",
       "      <td>공동주택</td>\n",
       "      <td>113.29</td>\n",
       "      <td>477631364</td>\n",
       "      <td>84A</td>\n",
       "      <td>x</td>\n",
       "      <td>10.375001</td>\n",
       "    </tr>\n",
       "    <tr>\n",
       "      <th>4</th>\n",
       "      <td>경00</td>\n",
       "      <td>1034950000</td>\n",
       "      <td>공동주택</td>\n",
       "      <td>113.29</td>\n",
       "      <td>477631364</td>\n",
       "      <td>84A</td>\n",
       "      <td>51 (1+1)</td>\n",
       "      <td>10.349500</td>\n",
       "    </tr>\n",
       "    <tr>\n",
       "      <th>5</th>\n",
       "      <td>한00</td>\n",
       "      <td>1020206040</td>\n",
       "      <td>공동주택</td>\n",
       "      <td>113.29</td>\n",
       "      <td>477631364</td>\n",
       "      <td>84A</td>\n",
       "      <td>51 (1+1)</td>\n",
       "      <td>10.202060</td>\n",
       "    </tr>\n",
       "  </tbody>\n",
       "</table>\n",
       "</div>"
      ],
      "text/plain": [
       "      조합원        권리가액    용도   분양 면적    조합원 분양가 확정평형     확정평형2     권리가액_억\n",
       "변경순위                                                                    \n",
       "1     정00  1460102565  공동주택  113.29  477631364  84A  51 (1+1)  14.601026\n",
       "2     김00  1161533290  공동주택  113.29  477631364  84A  51 (1+1)  11.615333\n",
       "3     나00  1037500130  공동주택  113.29  477631364  84A         x  10.375001\n",
       "4     경00  1034950000  공동주택  113.29  477631364  84A  51 (1+1)  10.349500\n",
       "5     한00  1020206040  공동주택  113.29  477631364  84A  51 (1+1)  10.202060"
      ]
     },
     "execution_count": 95,
     "metadata": {},
     "output_type": "execute_result"
    }
   ],
   "source": [
    "x_data.head(5)"
   ]
  },
  {
   "cell_type": "code",
   "execution_count": 112,
   "metadata": {},
   "outputs": [
    {
     "data": {
      "text/plain": [
       "<Figure size 504x432 with 0 Axes>"
      ]
     },
     "metadata": {},
     "output_type": "display_data"
    },
    {
     "data": {
      "image/png": "[encoded data removed]",
      "text/plain": [
       "<Figure size 432x288 with 1 Axes>"
      ]
     },
     "metadata": {
      "needs_background": "light"
     },
     "output_type": "display_data"
    }
   ],
   "source": [
    "# < 6억 + 1채인 사람\n",
    "plt.figure(figsize =(7,6))\n",
    "boxplot = x_data[(x_data['확정평형2']  == 'x' ) & ( x_data['권리가액_억'] < 6.0)].boxplot(column=['권리가액_억'], by='확정평형' )\n",
    "#plt.yticks(np.arange(0, 2, step = 0.1))\n",
    "plt.show()"
   ]
  },
  {
   "cell_type": "code",
   "execution_count": 111,
   "metadata": {},
   "outputs": [
    {
     "data": {
      "text/plain": [
       "<Figure size 504x432 with 0 Axes>"
      ]
     },
     "metadata": {},
     "output_type": "display_data"
    },
    {
     "data": {
      "image/png": "[encoded data removed]",
      "text/plain": [
       "<Figure size 432x288 with 1 Axes>"
      ]
     },
     "metadata": {
      "needs_background": "light"
     },
     "output_type": "display_data"
    }
   ],
   "source": [
    "# < 4억 + 1채인사람\n",
    "plt.figure(figsize =(7,6))\n",
    "boxplot = x_data[( x_data['확정평형2']  == 'x' ) & ( x_data['권리가액_억'] < 4.0)].boxplot(column=['권리가액_억'], by='확정평형' )\n",
    "#plt.yticks(np.arange(0, 2, step = 0.1))\n",
    "plt.show()"
   ]
  },
  {
   "cell_type": "code",
   "execution_count": 121,
   "metadata": {},
   "outputs": [
    {
     "data": {
      "text/plain": [
       "<Figure size 504x432 with 0 Axes>"
      ]
     },
     "metadata": {},
     "output_type": "display_data"
    },
    {
     "data": {
      "image/png": "[encoded data removed]",
      "text/plain": [
       "<Figure size 432x288 with 1 Axes>"
      ]
     },
     "metadata": {
      "needs_background": "light"
     },
     "output_type": "display_data"
    }
   ],
   "source": [
    "# < 2억 + 1채인사람\n",
    "plt.figure(figsize =(7,6))\n",
    "boxplot = x_data[( x_data['확정평형2']  == 'x' ) & ( x_data['권리가액_억'] < 2.0)].boxplot(column=['권리가액_억'], by='확정평형' )\n",
    "#plt.yticks(np.arange(0, 2, step = 0.1))\n",
    "plt.show()"
   ]
  },
  {
   "cell_type": "code",
   "execution_count": 159,
   "metadata": {},
   "outputs": [
    {
     "name": "stdout",
     "output_type": "stream",
     "text": [
      "Empty DataFrame\n",
      "Columns: [조합원, 권리가액, 용도, 분양 면적, 조합원 분양가, 확정평형, 확정평형2, 권리가액_억]\n",
      "Index: []\n",
      "       조합원       권리가액    용도  분양 면적    조합원 분양가 확정평형 확정평형2  권리가액_억\n",
      "변경순위                                                            \n",
      "200    윤00  210050000  공동주택  81.84  370137076  59B     x  2.1005\n",
      "227    김00  197350000  공동주택  81.84  370137076  59B     x  1.9735\n",
      "235    김00  195550000  공동주택  81.84  370137076  59B     x  1.9555\n",
      "269    유00  189050000  공동주택  81.84  370137076  59B     x  1.8905\n",
      "314    장00  180500000  공동주택  81.84  370137076  59B     x  1.8050\n",
      "...    ...        ...   ...    ...        ...  ...   ...     ...\n",
      "1881   배00  113900000  공동주택  81.84  370137076  59B     x  1.1390\n",
      "1885   이00  113400000  공동주택  81.84  370137076  59B     x  1.1340\n",
      "1887  홍boo  113150000  공동주택  81.84  370137076  59B     x  1.1315\n",
      "1892   유00  112850000  공동주택  81.84  370137076  59B     x  1.1285\n",
      "179    주00  267250000  공동주택  81.84  370137076  59B     x  2.6725\n",
      "\n",
      "[356 rows x 8 columns]\n",
      "      조합원       권리가액    용도  분양 면적    조합원 분양가 확정평형 확정평형2    권리가액_억\n",
      "변경순위                                                             \n",
      "7     김00  971369140  공동주택  81.15  370588318  59A     x  9.713691\n",
      "13    정00  870910280  공동주택  81.15  370588318  59A     x  8.709103\n",
      "80    김00  490919920  공동주택  81.15  370588318  59A     x  4.909199\n",
      "118   김00  385863525  공동주택  81.15  370588318  59A     x  3.858635\n",
      "124   유00  378354760  공동주택  81.15  370588318  59A     x  3.783548\n",
      "...   ...        ...   ...    ...        ...  ...   ...       ...\n",
      "741   우00  149150000  공동주택  81.15  370588318  59A     x  1.491500\n",
      "743   임00  149100000  공동주택  81.15  370588318  59A     x  1.491000\n",
      "751   고00  148550000  공동주택  81.15  370588318  59A     x  1.485500\n",
      "752   김00  148550000  공동주택  81.15  370588318  59A     x  1.485500\n",
      "753   조00  148450000  공동주택  81.15  370588318  59A     x  1.484500\n",
      "\n",
      "[300 rows x 8 columns]\n",
      "      조합원       권리가액    용도  분양 면적    조합원 분양가 확정평형 확정평형2    권리가액_억\n",
      "변경순위                                                             \n",
      "131   이00  369084760  공동주택  96.45  423393000  71B     x  3.690848\n",
      "308   박00  181550000  공동주택  96.45  423393000  71B     x  1.815500\n",
      "366   한00  174000000  공동주택  96.45  423393000  71B     x  1.740000\n",
      "506   성00  162450000  공동주택  96.45  423393000  71B     x  1.624500\n",
      "653   김00  152900000  공동주택  96.45  423393000  71B     x  1.529000\n",
      "658   최00  152600000  공동주택  96.45  423393000  71B     x  1.526000\n",
      "693   김00  150250000  공동주택  96.45  423393000  71B     x  1.502500\n",
      "706   최00  149700000  공동주택  96.45  423393000  71B     x  1.497000\n",
      "      조합원       권리가액    용도  분양 면적    조합원 분양가 확정평형 확정평형2    권리가액_억\n",
      "변경순위                                                             \n",
      "53    김00  554166300  공동주택  95.87  433847248  71A     x  5.541663\n",
      "84    김00  464398995  공동주택  95.87  433847248  71A     x  4.643990\n",
      "144   박00  344403410  공동주택  95.87  433847248  71A     x  3.444034\n",
      "188   채00  250352600  공동주택  95.87  433847248  71A     x  2.503526\n",
      "192   임00  236050000  공동주택  95.87  433847248  71A     x  2.360500\n",
      "...   ...        ...   ...    ...        ...  ...   ...       ...\n",
      "585   김00  158400000  공동주택  95.87  433847248  71A     x  1.584000\n",
      "596   양00  157650000  공동주택  95.87  433847248  71A     x  1.576500\n",
      "599   성00  157200000  공동주택  95.87  433847248  71A     x  1.572000\n",
      "602   천00  156900000  공동주택  95.87  433847248  71A     x  1.569000\n",
      "613   김00  156250000  공동주택  95.87  433847248  71A     x  1.562500\n",
      "\n",
      "[65 rows x 8 columns]\n",
      "      조합원       권리가액    용도   분양 면적    조합원 분양가 확정평형 확정평형2    권리가액_억\n",
      "변경순위                                                              \n",
      "11    박00  877112700  공동주택  113.28  465871364  84B     x  8.771127\n",
      "169   김00  297997100  공동주택  113.28  465871364  84B     x  2.979971\n",
      "182   한00  257319000  공동주택  113.28  465871364  84B     x  2.573190\n",
      "215   김00  202550000  공동주택  113.28  465871364  84B     x  2.025500\n",
      "220   민00  198850000  공동주택  113.28  465871364  84B     x  1.988500\n",
      "221   문00  197850000  공동주택  113.28  465871364  84B     x  1.978500\n",
      "222   백00  197850000  공동주택  113.28  465871364  84B     x  1.978500\n",
      "224   정00  197800000  공동주택  113.28  465871364  84B     x  1.978000\n",
      "229   양00  197200000  공동주택  113.28  465871364  84B     x  1.972000\n",
      "230   윤00  196100000  공동주택  113.28  465871364  84B     x  1.961000\n",
      "233   차00  195550000  공동주택  113.28  465871364  84B     x  1.955500\n",
      "238   김00  193650000  공동주택  113.28  465871364  84B     x  1.936500\n",
      "241   남00  193650000  공동주택  113.28  465871364  84B     x  1.936500\n",
      "242   임00  192800000  공동주택  113.28  465871364  84B     x  1.928000\n",
      "243   백00  192800000  공동주택  113.28  465871364  84B     x  1.928000\n",
      "247   이00  192200000  공동주택  113.28  465871364  84B     x  1.922000\n",
      "254   김00  191600000  공동주택  113.28  465871364  84B     x  1.916000\n",
      "261   김00  189550000  공동주택  113.28  465871364  84B     x  1.895500\n",
      "271   임00  188450000  공동주택  113.28  465871364  84B     x  1.884500\n",
      "272   조00  188350000  공동주택  113.28  465871364  84B     x  1.883500\n",
      "283   김00  185900000  공동주택  113.28  465871364  84B     x  1.859000\n",
      "292   이00  184750000  공동주택  113.28  465871364  84B     x  1.847500\n",
      "295   지00  183100000  공동주택  113.28  465871364  84B     x  1.831000\n",
      "298   진00  182750000  공동주택  113.28  465871364  84B     x  1.827500\n",
      "301   고00  182550000  공동주택  113.28  465871364  84B     x  1.825500\n",
      "302   김00  182550000  공동주택  113.28  465871364  84B     x  1.825500\n",
      "303   조00  182000000  공동주택  113.28  465871364  84B     x  1.820000\n",
      "316   배00  180350000  공동주택  113.28  465871364  84B     x  1.803500\n",
      "318   정00  180250000  공동주택  113.28  465871364  84B     x  1.802500\n",
      "326   안00  179800000  공동주택  113.28  465871364  84B     x  1.798000\n",
      "330   이00  178700000  공동주택  113.28  465871364  84B     x  1.787000\n",
      "331   김00  178700000  공동주택  113.28  465871364  84B     x  1.787000\n",
      "333   신00  178500000  공동주택  113.28  465871364  84B     x  1.785000\n",
      "342   심00  177400000  공동주택  113.28  465871364  84B     x  1.774000\n",
      "357   김00  174300000  공동주택  113.28  465871364  84B     x  1.743000\n",
      "364   박00  174100000  공동주택  113.28  465871364  84B     x  1.741000\n",
      "369   전00  174000000  공동주택  113.28  465871364  84B     x  1.740000\n",
      "372   양00  173850000  공동주택  113.28  465871364  84B     x  1.738500\n",
      "375   오00  173400000  공동주택  113.28  465871364  84B     x  1.734000\n",
      "382   정00  172300000  공동주택  113.28  465871364  84B     x  1.723000\n",
      "178   권00  267493020  공동주택  113.28  465871364  84B     x  2.674930\n"
     ]
    }
   ],
   "source": [
    "# 각 평형별 신규커트라인 기준 아래에 있는 사람 + 2채 인사람들은 가만이 있다고 가정하고, 나머지 빈자리를 채워볼 것.\n",
    "# print(condition['평형'][0])\n",
    "# print(condition[condition['평형'] == '84B']['평형'])\n",
    "\n",
    "\n",
    "# x_data_move1 = x_data[(x_data['확정평형'] =='84B') and (x_data['확정평형2'] == 'x') and (x_data['권리가액'] > condition['기존커트라인']['84B']) ]\n",
    "\n",
    "#print(x_data_move1)\n",
    "\n",
    "x_data_move = []\n",
    "x_data_move_all = pd.DataFrame()\n",
    "for i in range(len(condition)):\n",
    "    if condition['평형'][i] == '99a' or condition['평형'][i] == '84A':\n",
    "        continue    \n",
    "    #print(condition['평형'][i], condition['기존커트라인'][i], sep='\\n')\n",
    "    x_data_move.append(x_data[(x_data['확정평형'] == condition['평형'][i]) & (x_data['확정평형2'] == 'x') & (x_data['권리가액'] > condition['기존커트라인'][i]) ])\n",
    "    #print(x_data_move[i])\n",
    "\n",
    "    #print(condition['평형'][i], '평형 빠져나가는 세대수 : ', len(x_data_move[i]) )\n",
    "    print(x_data_move[i])\n",
    "\n"
   ]
  },
  {
   "cell_type": "code",
   "execution_count": null,
   "metadata": {},
   "outputs": [],
   "source": []
  },
  {
   "cell_type": "code",
   "execution_count": null,
   "metadata": {},
   "outputs": [],
   "source": []
  }
 ],
 "metadata": {
  "interpreter": {
   "hash": "36b389e5cd59d9719562e08f3cbf07dde553332b0fa5372c26f48a01b770d33d"
  },
  "kernelspec": {
   "display_name": "Python 3.8.10 64-bit ('cuda': conda)",
   "name": "python3"
  },
  "language_info": {
   "codemirror_mode": {
    "name": "ipython",
    "version": 3
   },
   "file_extension": ".py",
   "mimetype": "text/x-python",
   "name": "python",
   "nbconvert_exporter": "python",
   "pygments_lexer": "ipython3",
   "version": "3.8.10"
  },
  "orig_nbformat": 4
 },
 "nbformat": 4,
 "nbformat_minor": 2
}